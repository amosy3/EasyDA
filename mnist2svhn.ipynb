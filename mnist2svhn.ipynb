{
 "cells": [
  {
   "cell_type": "markdown",
   "id": "d56c28cd",
   "metadata": {},
   "source": [
    "# Imports"
   ]
  },
  {
   "cell_type": "code",
   "execution_count": 1,
   "id": "1c36bd21",
   "metadata": {},
   "outputs": [],
   "source": [
    "import torch\n",
    "from torch import nn"
   ]
  },
  {
   "cell_type": "code",
   "execution_count": 2,
   "id": "e68e9dc1",
   "metadata": {},
   "outputs": [],
   "source": [
    "from torchvision.datasets import MNIST, SVHN\n",
    "from torch.utils.data import DataLoader\n",
    "from torchvision.transforms import ToTensor, Resize, Compose, Grayscale"
   ]
  },
  {
   "cell_type": "code",
   "execution_count": 3,
   "id": "7599882a",
   "metadata": {},
   "outputs": [],
   "source": [
    "from collections import defaultdict"
   ]
  },
  {
   "cell_type": "code",
   "execution_count": 4,
   "id": "69140649",
   "metadata": {},
   "outputs": [],
   "source": [
    "import matplotlib.pyplot as plt\n",
    "%matplotlib inline"
   ]
  },
  {
   "cell_type": "markdown",
   "id": "a2af8fb9",
   "metadata": {},
   "source": [
    "# Functions"
   ]
  },
  {
   "cell_type": "code",
   "execution_count": 5,
   "id": "a56657eb",
   "metadata": {},
   "outputs": [],
   "source": [
    "def get_corrects(preds, labels):\n",
    "    class_num_pred = preds.argmax(dim=1)\n",
    "    return sum(class_num_pred==labels).item()"
   ]
  },
  {
   "cell_type": "markdown",
   "id": "fc1365ee",
   "metadata": {},
   "source": [
    "# Load Dataset"
   ]
  },
  {
   "cell_type": "code",
   "execution_count": 6,
   "id": "d437f4c4",
   "metadata": {},
   "outputs": [
    {
     "name": "stdout",
     "output_type": "stream",
     "text": [
      "Using downloaded and verified file: ../datasets/train_32x32.mat\n",
      "Using downloaded and verified file: ../datasets/test_32x32.mat\n"
     ]
    }
   ],
   "source": [
    "batch_size = 16\n",
    "transform = Compose([Resize((28,28)), ToTensor()])\n",
    "\n",
    "source_loader = dict()\n",
    "source_loader['train'] = DataLoader(MNIST('../datasets/',train=True, download = True, transform=transform), \n",
    "                                    batch_size=batch_size, shuffle=True)\n",
    "source_loader['test'] = DataLoader(MNIST('../datasets/',train=False, download = True, transform=transform),\n",
    "                                   batch_size=batch_size, shuffle=True)\n",
    "\n",
    "target_loader = dict()\n",
    "target_loader['train'] = DataLoader(SVHN('../datasets/', 'train', download = True, transform=transform),\n",
    "                                    batch_size=batch_size, shuffle=True)\n",
    "target_loader['test'] = DataLoader(SVHN('../datasets/','test', download = True, transform=transform),\n",
    "                                   batch_size=batch_size, shuffle=True)"
   ]
  },
  {
   "cell_type": "markdown",
   "id": "63be4a42",
   "metadata": {},
   "source": [
    "# Define Model"
   ]
  },
  {
   "cell_type": "code",
   "execution_count": 7,
   "id": "e6377976",
   "metadata": {},
   "outputs": [],
   "source": [
    "class VisionNet(nn.Module):\n",
    "    def __init__(self, num_classes : int, conv_channels: int =20):\n",
    "        super().__init__()\n",
    "        self.num_classes = num_classes\n",
    "        self.conv1 = nn.Conv2d(3, conv_channels, 3)\n",
    "        self.bn1 = nn.BatchNorm2d(conv_channels)\n",
    "        self.conv2 = nn.Conv2d(conv_channels, 2*conv_channels, 3)\n",
    "        self.bn2 = nn.BatchNorm2d(2*conv_channels)\n",
    "        self.fc1 = nn.Linear(23040,100)\n",
    "        self.fc2 = nn.Linear(100,num_classes)\n",
    "        self.relu = nn.ReLU()\n",
    "        self.flat = nn.Flatten()\n",
    "    def forward(self,x):\n",
    "        if x.shape[1] == 1:\n",
    "            x = x.repeat(1,3,1,1)\n",
    "        x = self.conv1(x)\n",
    "        x = self.bn1(x)\n",
    "        x = self.relu(x)\n",
    "        \n",
    "        x = self.conv2(x)\n",
    "        x = self.bn2(x)\n",
    "        x = self.relu(x)\n",
    "        \n",
    "        x = self.flat(x)\n",
    "        x = self.relu(self.fc1(x))\n",
    "        x = self.relu(self.fc2(x))\n",
    "        return x      \n",
    "\n"
   ]
  },
  {
   "cell_type": "code",
   "execution_count": 8,
   "id": "1506cbfc",
   "metadata": {},
   "outputs": [],
   "source": [
    "accs = defaultdict(list)"
   ]
  },
  {
   "cell_type": "markdown",
   "id": "a58fd021",
   "metadata": {},
   "source": [
    "# Train On Source"
   ]
  },
  {
   "cell_type": "code",
   "execution_count": 9,
   "id": "386f383a",
   "metadata": {},
   "outputs": [
    {
     "name": "stderr",
     "output_type": "stream",
     "text": [
      "/home/pc/anaconda3/lib/python3.8/site-packages/torch/nn/_reduction.py:44: UserWarning: size_average and reduce args will be deprecated, please use reduction='mean' instead.\n",
      "  warnings.warn(warning.format(ret))\n",
      "/home/pc/anaconda3/lib/python3.8/site-packages/torch/autograd/__init__.py:130: UserWarning: CUDA initialization: Found no NVIDIA driver on your system. Please check that you have an NVIDIA GPU and installed a driver from http://www.nvidia.com/Download/index.aspx (Triggered internally at  /opt/conda/conda-bld/pytorch_1607370172916/work/c10/cuda/CUDAFunctions.cpp:100.)\n",
      "  Variable._execution_engine.run_backward(\n"
     ]
    },
    {
     "name": "stdout",
     "output_type": "stream",
     "text": [
      "Epoch: 0, Source Train Loss: 1336.45, Acc: 0.87 Val Loss 37.64, Acc: 0.98 Target Val Loss 6632.91, Acc 0.08\n",
      "Epoch: 1, Source Train Loss: 177.61, Acc: 0.99 Val Loss 39.58, Acc: 0.98 Target Val Loss 7125.28, Acc 0.08\n",
      "Epoch: 2, Source Train Loss: 106.39, Acc: 0.99 Val Loss 25.96, Acc: 0.99 Target Val Loss 8248.68, Acc 0.08\n",
      "Epoch: 3, Source Train Loss: 63.58, Acc: 0.99 Val Loss 22.27, Acc: 0.99 Target Val Loss 10175.09, Acc 0.07\n",
      "Epoch: 4, Source Train Loss: 36.76, Acc: 1.00 Val Loss 18.70, Acc: 0.99 Target Val Loss 11905.04, Acc 0.07\n",
      "Epoch: 5, Source Train Loss: 25.89, Acc: 1.00 Val Loss 20.30, Acc: 0.99 Target Val Loss 11487.58, Acc 0.07\n",
      "Epoch: 6, Source Train Loss: 15.00, Acc: 1.00 Val Loss 18.29, Acc: 0.99 Target Val Loss 13074.66, Acc 0.07\n",
      "Epoch: 7, Source Train Loss: 9.69, Acc: 1.00 Val Loss 19.29, Acc: 0.99 Target Val Loss 12931.25, Acc 0.07\n",
      "Epoch: 8, Source Train Loss: 6.36, Acc: 1.00 Val Loss 18.77, Acc: 0.99 Target Val Loss 13915.95, Acc 0.07\n",
      "Epoch: 9, Source Train Loss: 4.30, Acc: 1.00 Val Loss 19.83, Acc: 0.99 Target Val Loss 14526.15, Acc 0.07\n"
     ]
    }
   ],
   "source": [
    "model = VisionNet(num_classes = 10)\n",
    "epochs = 10\n",
    "criteria = nn.CrossEntropyLoss(reduce='mean')\n",
    "optimizer = torch.optim.SGD(model.parameters(), lr = 1e-3, momentum=0.9)\n",
    "\n",
    "\n",
    "for epoch in range(epochs):\n",
    "    model.train()\n",
    "    running_loss, corrects, count = 0.0, 0, 0\n",
    "    for X,y in source_loader['train']:\n",
    "        preds = model(X)\n",
    "        loss = criteria(preds, y)\n",
    "        running_loss += loss.item()\n",
    "        corrects += get_corrects(preds, y)\n",
    "        count += X.shape[0]\n",
    "        \n",
    "        \n",
    "        optimizer.zero_grad()\n",
    "        loss.backward()\n",
    "        optimizer.step()\n",
    "    msg = 'Epoch: %d, Source Train Loss: %0.2f, Acc: %0.2f' % (epoch, running_loss, corrects/count)\n",
    "    \n",
    "    model.eval()\n",
    "    running_loss, corrects, count = 0.0, 0, 0\n",
    "    for X,y in source_loader['test']:\n",
    "        with torch.no_grad():\n",
    "            preds = model(X)\n",
    "            loss = criteria(preds, y)\n",
    "            running_loss += loss.item()\n",
    "            corrects += get_corrects(preds, y)\n",
    "            count += X.shape[0]\n",
    "    msg += ' Val Loss %0.2f, Acc: %0.2f' % (running_loss, corrects/count)\n",
    "    \n",
    "    model.eval()\n",
    "    running_loss, corrects, count = 0.0, 0, 0\n",
    "    for X,y in target_loader['test']:\n",
    "        with torch.no_grad():\n",
    "            preds = model(X)\n",
    "            loss = criteria(preds, y)\n",
    "            running_loss += loss.item()\n",
    "            corrects += get_corrects(preds, y)\n",
    "            count += X.shape[0]\n",
    "    accs['source'].append(corrects/count)\n",
    "    print('%s Target Val Loss %0.2f, Acc %0.2f' % (msg, running_loss, corrects/count))\n",
    "    "
   ]
  },
  {
   "cell_type": "markdown",
   "id": "df0fda82",
   "metadata": {},
   "source": [
    "# Adapt BN Layer "
   ]
  },
  {
   "cell_type": "code",
   "execution_count": 10,
   "id": "4f96f04e",
   "metadata": {},
   "outputs": [
    {
     "name": "stdout",
     "output_type": "stream",
     "text": [
      "Epoch: 0, Source Train Loss: 524.10, Acc: 0.96 Val Loss 33.97, Acc: 0.98 Target Val Loss 5320.25, Acc 0.25\n",
      "Epoch: 1, Source Train Loss: 160.16, Acc: 0.99 Val Loss 27.61, Acc: 0.98 Target Val Loss 5737.67, Acc 0.25\n",
      "Epoch: 2, Source Train Loss: 103.63, Acc: 0.99 Val Loss 22.26, Acc: 0.99 Target Val Loss 5529.00, Acc 0.30\n",
      "Epoch: 3, Source Train Loss: 65.17, Acc: 0.99 Val Loss 20.98, Acc: 0.99 Target Val Loss 5820.43, Acc 0.28\n",
      "Epoch: 4, Source Train Loss: 40.25, Acc: 1.00 Val Loss 25.18, Acc: 0.99 Target Val Loss 6756.84, Acc 0.27\n",
      "Epoch: 5, Source Train Loss: 24.12, Acc: 1.00 Val Loss 19.55, Acc: 0.99 Target Val Loss 6950.99, Acc 0.26\n",
      "Epoch: 6, Source Train Loss: 15.18, Acc: 1.00 Val Loss 20.34, Acc: 0.99 Target Val Loss 6885.26, Acc 0.27\n",
      "Epoch: 7, Source Train Loss: 9.78, Acc: 1.00 Val Loss 20.66, Acc: 0.99 Target Val Loss 7390.57, Acc 0.27\n",
      "Epoch: 8, Source Train Loss: 6.77, Acc: 1.00 Val Loss 19.50, Acc: 0.99 Target Val Loss 7620.03, Acc 0.26\n",
      "Epoch: 9, Source Train Loss: 4.83, Acc: 1.00 Val Loss 19.47, Acc: 0.99 Target Val Loss 7614.33, Acc 0.27\n"
     ]
    }
   ],
   "source": [
    "model = VisionNet(num_classes = 10)\n",
    "epochs = 10\n",
    "\n",
    "criteria = nn.CrossEntropyLoss(reduce='mean')\n",
    "optimizer = torch.optim.SGD(model.parameters(), lr = 1e-3, momentum=0.9)\n",
    "\n",
    "\n",
    "for epoch in range(epochs):\n",
    "    model.train()\n",
    "    running_loss, corrects, count = 0.0, 0, 0\n",
    "    for X,y in source_loader['train']:\n",
    "        preds = model(X)\n",
    "        loss = criteria(preds, y)\n",
    "        running_loss += loss.item()\n",
    "        corrects += get_corrects(preds, y)\n",
    "        count += X.shape[0]\n",
    "        \n",
    "        \n",
    "        optimizer.zero_grad()\n",
    "        loss.backward()\n",
    "        optimizer.step()\n",
    "    msg = 'Epoch: %d, Source Train Loss: %0.2f, Acc: %0.2f' % (epoch, running_loss, corrects/count)\n",
    "    \n",
    "    model.eval()\n",
    "    running_loss, corrects, count = 0.0, 0, 0\n",
    "    for X,y in source_loader['test']:\n",
    "        with torch.no_grad():\n",
    "            preds = model(X)\n",
    "            loss = criteria(preds, y)\n",
    "            running_loss += loss.item()\n",
    "            corrects += get_corrects(preds, y)\n",
    "            count += X.shape[0]\n",
    "    msg += ' Val Loss %0.2f, Acc: %0.2f' % (running_loss, corrects/count)\n",
    "    \n",
    "    ####################################################33\n",
    "    \n",
    "    model.train()\n",
    "    for X,y in target_loader['test']:\n",
    "        with torch.no_grad():\n",
    "            _ = model(X)\n",
    "    \n",
    "    #################################################3\n",
    "    model.eval()\n",
    "    running_loss, corrects, count = 0.0, 0, 0\n",
    "    for X,y in target_loader['test']:\n",
    "        with torch.no_grad():\n",
    "            preds = model(X)\n",
    "            loss = criteria(preds, y)\n",
    "            running_loss += loss.item()\n",
    "            corrects += get_corrects(preds, y)\n",
    "            count += X.shape[0]\n",
    "    accs['BN'].append(corrects/count)\n",
    "    print('%s Target Val Loss %0.2f, Acc %0.2f' % (msg, running_loss, corrects/count))\n",
    "    "
   ]
  },
  {
   "cell_type": "markdown",
   "id": "2c4c8aab",
   "metadata": {},
   "source": [
    "# Augmentations"
   ]
  },
  {
   "cell_type": "code",
   "execution_count": 11,
   "id": "aebe5810",
   "metadata": {},
   "outputs": [
    {
     "name": "stdout",
     "output_type": "stream",
     "text": [
      "Using downloaded and verified file: ../datasets/test_32x32.mat\n",
      "Epoch: 0, Source Train Loss: 1144.75, Acc: 0.89 Val Loss 33.83, Acc: 0.98 Target Val Loss 4392.12, Acc 0.19\n",
      "Epoch: 1, Source Train Loss: 170.67, Acc: 0.99 Val Loss 24.47, Acc: 0.99 Target Val Loss 5115.84, Acc 0.15\n",
      "Epoch: 2, Source Train Loss: 100.24, Acc: 0.99 Val Loss 19.22, Acc: 0.99 Target Val Loss 6111.16, Acc 0.12\n",
      "Epoch: 3, Source Train Loss: 61.94, Acc: 0.99 Val Loss 19.07, Acc: 0.99 Target Val Loss 7453.80, Acc 0.10\n",
      "Epoch: 4, Source Train Loss: 41.51, Acc: 1.00 Val Loss 20.47, Acc: 0.99 Target Val Loss 8655.75, Acc 0.09\n",
      "Epoch: 5, Source Train Loss: 21.99, Acc: 1.00 Val Loss 19.21, Acc: 0.99 Target Val Loss 10560.26, Acc 0.09\n",
      "Epoch: 6, Source Train Loss: 14.50, Acc: 1.00 Val Loss 19.89, Acc: 0.99 Target Val Loss 11476.29, Acc 0.08\n",
      "Epoch: 7, Source Train Loss: 9.34, Acc: 1.00 Val Loss 19.77, Acc: 0.99 Target Val Loss 12996.24, Acc 0.08\n",
      "Epoch: 8, Source Train Loss: 6.67, Acc: 1.00 Val Loss 19.00, Acc: 0.99 Target Val Loss 13984.98, Acc 0.08\n",
      "Epoch: 9, Source Train Loss: 5.05, Acc: 1.00 Val Loss 19.73, Acc: 0.99 Target Val Loss 13796.85, Acc 0.08\n"
     ]
    }
   ],
   "source": [
    "##########################################3\n",
    "\n",
    "aug_target_loader = DataLoader(SVHN('../datasets/','test', download = True, \n",
    "                                            transform=Compose([Resize((28,28)), Grayscale(num_output_channels=3), ToTensor()])),\n",
    "                                            batch_size=batch_size, shuffle=True)\n",
    "\n",
    "#########################################\n",
    "\n",
    "\n",
    "model = VisionNet(num_classes = 10)\n",
    "epochs = 10\n",
    "criteria = nn.CrossEntropyLoss(reduce='mean')\n",
    "optimizer = torch.optim.SGD(model.parameters(), lr = 1e-3, momentum=0.9)\n",
    "\n",
    "\n",
    "for epoch in range(epochs):\n",
    "    model.train()\n",
    "    running_loss, corrects, count = 0.0, 0, 0\n",
    "    for X,y in source_loader['train']:\n",
    "        preds = model(X)\n",
    "        loss = criteria(preds, y)\n",
    "        running_loss += loss.item()\n",
    "        corrects += get_corrects(preds, y)\n",
    "        count += X.shape[0]\n",
    "        \n",
    "        \n",
    "        optimizer.zero_grad()\n",
    "        loss.backward()\n",
    "        optimizer.step()\n",
    "    msg = 'Epoch: %d, Source Train Loss: %0.2f, Acc: %0.2f' % (epoch, running_loss, corrects/count)\n",
    "    \n",
    "    model.eval()\n",
    "    running_loss, corrects, count = 0.0, 0, 0\n",
    "    for X,y in source_loader['test']:\n",
    "        with torch.no_grad():\n",
    "            preds = model(X)\n",
    "            loss = criteria(preds, y)\n",
    "            running_loss += loss.item()\n",
    "            corrects += get_corrects(preds, y)\n",
    "            count += X.shape[0]\n",
    "    msg += ' Val Loss %0.2f, Acc: %0.2f' % (running_loss, corrects/count)\n",
    "    \n",
    "    model.eval()\n",
    "    running_loss, corrects, count = 0.0, 0, 0\n",
    "    for X,y in aug_target_loader:\n",
    "        with torch.no_grad():\n",
    "            preds = model(X)\n",
    "            loss = criteria(preds, y)\n",
    "            running_loss += loss.item()\n",
    "            corrects += get_corrects(preds, y)\n",
    "            count += X.shape[0]\n",
    "    accs['Augmentations'].append(corrects/count)\n",
    "    print('%s Target Val Loss %0.2f, Acc %0.2f' % (msg, running_loss, corrects/count))\n",
    "    "
   ]
  },
  {
   "cell_type": "code",
   "execution_count": 12,
   "id": "4b1a50f1",
   "metadata": {
    "scrolled": true
   },
   "outputs": [
    {
     "data": {
      "text/plain": [
       "<matplotlib.image.AxesImage at 0x7f855f979790>"
      ]
     },
     "execution_count": 12,
     "metadata": {},
     "output_type": "execute_result"
    },
    {
     "data": {
      "image/png": "[encoded data removed]",
      "text/plain": [
       "<Figure size 432x288 with 1 Axes>"
      ]
     },
     "metadata": {
      "needs_background": "light"
     },
     "output_type": "display_data"
    }
   ],
   "source": [
    "plt.imshow(X[4].permute(1,2,0))"
   ]
  },
  {
   "cell_type": "markdown",
   "id": "b4e95bf0",
   "metadata": {},
   "source": [
    "# Weight soure samples"
   ]
  },
  {
   "cell_type": "markdown",
   "id": "d609b1ce",
   "metadata": {},
   "source": [
    "## Step 1: Train a domain classifier"
   ]
  },
  {
   "cell_type": "code",
   "execution_count": 13,
   "id": "7200d139",
   "metadata": {},
   "outputs": [
    {
     "name": "stdout",
     "output_type": "stream",
     "text": [
      "Using downloaded and verified file: ../datasets/train_32x32.mat\n"
     ]
    }
   ],
   "source": [
    "batch_size = 16\n",
    "transform = Compose([Resize((28,28)), ToTensor()])\n",
    "\n",
    "source_dataset = MNIST('../datasets/',train=True, download = True, transform=transform)\n",
    "n = int(0.8*len(source_dataset))\n",
    "source_train, source_val = torch.utils.data.random_split(source_dataset, [n, len(source_dataset) - n])\n",
    "\n",
    "source_loader = dict()\n",
    "source_loader['train'] = DataLoader(source_train, batch_size=batch_size, shuffle=True)\n",
    "source_loader['test'] = DataLoader(source_val, batch_size=batch_size, shuffle=True)\n",
    "\n",
    "\n",
    "target_dataset = SVHN('../datasets/','train', download = True, transform=transform)\n",
    "n = int(0.8*len(target_dataset))\n",
    "target_train, target_val = torch.utils.data.random_split(target_dataset, [n, len(target_dataset) - n])\n",
    "\n",
    "\n",
    "target_loader = dict()\n",
    "target_loader['train'] = DataLoader(target_train, batch_size=batch_size, shuffle=True)\n",
    "target_loader['test'] = DataLoader(target_val, batch_size=batch_size, shuffle=True)"
   ]
  },
  {
   "cell_type": "code",
   "execution_count": 14,
   "id": "058416bb",
   "metadata": {},
   "outputs": [
    {
     "name": "stdout",
     "output_type": "stream",
     "text": [
      "### Train Domain Classifier ###\n",
      "Epoch: 0, Source Train Loss: 0.00, Acc: 1.00 Val Loss 0.00, Acc: 1.00\n",
      "Epoch: 1, Source Train Loss: 0.00, Acc: 1.00 Val Loss 0.00, Acc: 1.00\n"
     ]
    }
   ],
   "source": [
    "# Classifier should not be too good (fewer epochs, smaller LR, add regularization, linear classifier, etc.)\n",
    "epochs = 2\n",
    "domain_classifier = VisionNet(num_classes = 2)\n",
    "\n",
    "criteria = nn.CrossEntropyLoss(reduce='sum')\n",
    "optimizer = torch.optim.SGD(domain_classifier.parameters(), lr = 1e-4, momentum=0.9)\n",
    "\n",
    "print('### Train Domain Classifier ###')\n",
    "for epoch in range(epochs):\n",
    "    domain_classifier.train()\n",
    "    running_loss, corrects, count = 0.0, 0, 0\n",
    "    for (Xs,_), (Xt,_) in zip(source_loader['train'], target_loader['train']):\n",
    "        ys = torch.zeros(Xs.shape[0]).long()\n",
    "        yt = torch.ones(Xt.shape[0]).long()\n",
    "        X, y = torch.cat([Xs.repeat(1,3,1,1),Xt]), torch.cat([ys,yt])\n",
    "        idx = torch.randperm(X.shape[0])\n",
    "        X,y = X[idx],y[idx]\n",
    "        \n",
    "        preds = domain_classifier(X)\n",
    "        loss = criteria(preds, y)\n",
    "        running_loss += loss.item()\n",
    "        corrects += get_corrects(preds, y)\n",
    "        count += X.shape[0]\n",
    "        \n",
    "        \n",
    "        optimizer.zero_grad()\n",
    "        loss.backward()\n",
    "        optimizer.step()\n",
    "    msg = 'Epoch: %d, Source Train Loss: %0.2f, Acc: %0.2f' % (epoch, running_loss/count, corrects/count)\n",
    "    \n",
    "    domain_classifier.eval()\n",
    "    running_loss, corrects, count = 0.0, 0, 0\n",
    "    for (Xs,_), (Xt,_) in zip(source_loader['test'], target_loader['test']):\n",
    "        ys = torch.zeros(Xs.shape[0]).long()\n",
    "        yt = torch.ones(Xt.shape[0]).long()\n",
    "        X, y = torch.cat([Xs.repeat(1,3,1,1),Xt]), torch.cat([ys,yt])\n",
    "        idx = torch.randperm(X.shape[0])\n",
    "        X,y = X[idx],y[idx]\n",
    "        \n",
    "        with torch.no_grad():\n",
    "            preds = domain_classifier(X)\n",
    "            loss = criteria(preds, y)\n",
    "            running_loss += loss.item()\n",
    "            corrects += get_corrects(preds, y)\n",
    "            count += X.shape[0]\n",
    "    msg += ' Val Loss %0.2f, Acc: %0.2f' % (running_loss/count, corrects/count)\n",
    "    print(msg)"
   ]
  },
  {
   "cell_type": "markdown",
   "id": "63634d1c",
   "metadata": {},
   "source": [
    "## Step 2: Train a weighted source classifier"
   ]
  },
  {
   "cell_type": "code",
   "execution_count": 15,
   "id": "16773c8f",
   "metadata": {},
   "outputs": [
    {
     "name": "stdout",
     "output_type": "stream",
     "text": [
      "Using downloaded and verified file: ../datasets/train_32x32.mat\n",
      "Using downloaded and verified file: ../datasets/test_32x32.mat\n"
     ]
    }
   ],
   "source": [
    "# Redefine loaders\n",
    "batch_size = 16\n",
    "transform = Compose([Resize((28,28)), ToTensor()])\n",
    "\n",
    "source_loader = dict()\n",
    "source_loader['train'] = DataLoader(MNIST('../datasets/',train=True, download = True, transform=transform), \n",
    "                                    batch_size=batch_size, shuffle=True)\n",
    "source_loader['test'] = DataLoader(MNIST('../datasets/',train=False, download = True, transform=transform),\n",
    "                                   batch_size=batch_size, shuffle=True)\n",
    "\n",
    "target_loader = dict()\n",
    "target_loader['train'] = DataLoader(SVHN('../datasets/', 'train', download = True, transform=transform),\n",
    "                                    batch_size=batch_size, shuffle=True)\n",
    "target_loader['test'] = DataLoader(SVHN('../datasets/','test', download = True, transform=transform),\n",
    "                                   batch_size=batch_size, shuffle=True)"
   ]
  },
  {
   "cell_type": "code",
   "execution_count": 16,
   "id": "fa9e9054",
   "metadata": {},
   "outputs": [
    {
     "name": "stdout",
     "output_type": "stream",
     "text": [
      "Epoch: 0, Source Train Loss: 0.00, Acc: 0.50 Val Loss 1.07, Acc: 0.72 Target Val Loss 2.39, Acc 0.17\n",
      "Epoch: 1, Source Train Loss: 0.00, Acc: 0.75 Val Loss 0.77, Acc: 0.79 Target Val Loss 2.42, Acc 0.17\n",
      "Epoch: 2, Source Train Loss: 0.00, Acc: 0.85 Val Loss 0.43, Acc: 0.90 Target Val Loss 2.67, Acc 0.14\n",
      "Epoch: 3, Source Train Loss: 0.00, Acc: 0.90 Val Loss 0.35, Acc: 0.92 Target Val Loss 2.77, Acc 0.13\n",
      "Epoch: 4, Source Train Loss: 0.00, Acc: 0.92 Val Loss 0.30, Acc: 0.93 Target Val Loss 2.82, Acc 0.13\n",
      "Epoch: 5, Source Train Loss: 0.00, Acc: 0.93 Val Loss 0.26, Acc: 0.93 Target Val Loss 2.88, Acc 0.13\n",
      "Epoch: 6, Source Train Loss: 0.00, Acc: 0.93 Val Loss 0.23, Acc: 0.94 Target Val Loss 2.93, Acc 0.13\n",
      "Epoch: 7, Source Train Loss: 0.00, Acc: 0.94 Val Loss 0.22, Acc: 0.94 Target Val Loss 2.93, Acc 0.13\n",
      "Epoch: 8, Source Train Loss: 0.00, Acc: 0.94 Val Loss 0.20, Acc: 0.95 Target Val Loss 3.00, Acc 0.12\n",
      "Epoch: 9, Source Train Loss: 0.00, Acc: 0.95 Val Loss 0.19, Acc: 0.95 Target Val Loss 3.01, Acc 0.12\n"
     ]
    }
   ],
   "source": [
    "model = VisionNet(num_classes = 10)\n",
    "domain_classifier.eval()\n",
    "\n",
    "epochs = 10\n",
    "\n",
    "criteria = nn.CrossEntropyLoss(reduction='none')\n",
    "optimizer = torch.optim.SGD(model.parameters(), lr = 1e-3, momentum=0.9)\n",
    "sm = nn.Softmax(1)\n",
    "\n",
    "for epoch in range(epochs):\n",
    "    model.train()\n",
    "    running_loss, corrects, count = 0.0, 0, 0\n",
    "    for X,y in source_loader['train']:\n",
    "        preds = model(X)\n",
    "        with torch.no_grad():\n",
    "            sample_weight = domain_classifier(X)\n",
    "        loss = criteria(preds, y)\n",
    "        loss = loss * sm(sample_weight)[:,1]\n",
    "        loss = loss.sum()\n",
    "        running_loss += loss.item()\n",
    "        corrects += get_corrects(preds, y)\n",
    "        count += X.shape[0]\n",
    "        \n",
    "        \n",
    "        optimizer.zero_grad()\n",
    "        loss.backward()\n",
    "        optimizer.step()\n",
    "    msg = 'Epoch: %d, Source Train Loss: %0.2f, Acc: %0.2f' % (epoch, running_loss/count, corrects/count)\n",
    "    \n",
    "    model.eval()\n",
    "    running_loss, corrects, count = 0.0, 0, 0\n",
    "    for X,y in source_loader['test']:\n",
    "        with torch.no_grad():\n",
    "            preds = model(X)\n",
    "            loss = criteria(preds, y)\n",
    "            running_loss += loss.sum().item()\n",
    "            corrects += get_corrects(preds, y)\n",
    "            count += X.shape[0]\n",
    "    msg += ' Val Loss %0.2f, Acc: %0.2f' % (running_loss/count, corrects/count)\n",
    "    \n",
    "\n",
    "    model.eval()\n",
    "    running_loss, corrects, count = 0.0, 0, 0\n",
    "    for X,y in target_loader['test']:\n",
    "        with torch.no_grad():\n",
    "            preds = model(X)\n",
    "            loss = criteria(preds, y)\n",
    "            running_loss += loss.sum().item()\n",
    "            corrects += get_corrects(preds, y)\n",
    "            count += X.shape[0]\n",
    "    accs['Weight Source'].append(corrects/count)\n",
    "    print('%s Target Val Loss %0.2f, Acc %0.2f' % (msg, running_loss/count, corrects/count))\n",
    "    "
   ]
  },
  {
   "cell_type": "markdown",
   "id": "de5df5af",
   "metadata": {},
   "source": [
    "# SSL"
   ]
  },
  {
   "cell_type": "code",
   "execution_count": null,
   "id": "bcf18c2d",
   "metadata": {},
   "outputs": [],
   "source": []
  },
  {
   "cell_type": "code",
   "execution_count": null,
   "id": "f1670f58",
   "metadata": {},
   "outputs": [],
   "source": []
  },
  {
   "cell_type": "code",
   "execution_count": null,
   "id": "5b8cd287",
   "metadata": {},
   "outputs": [],
   "source": []
  },
  {
   "cell_type": "code",
   "execution_count": null,
   "id": "0a2cf1aa",
   "metadata": {},
   "outputs": [],
   "source": []
  },
  {
   "cell_type": "markdown",
   "id": "aaa545fe",
   "metadata": {},
   "source": [
    "# Comparison"
   ]
  },
  {
   "cell_type": "code",
   "execution_count": 17,
   "id": "881d8c94",
   "metadata": {},
   "outputs": [
    {
     "data": {
      "image/png": "[encoded data removed]",
      "text/plain": [
       "<Figure size 720x720 with 1 Axes>"
      ]
     },
     "metadata": {
      "needs_background": "light"
     },
     "output_type": "display_data"
    }
   ],
   "source": [
    "plt.rcParams.update({'font.size': 22})\n",
    "plt.figure(figsize=(10,10))\n",
    "for k,v in accs.items():\n",
    "    plt.plot(v, label=k)\n",
    "\n",
    "plt.ylabel(\"Target Accuracy\")\n",
    "plt.xlabel(\"Epochs\")\n",
    "plt.legend()\n",
    "plt.show()\n"
   ]
  },
  {
   "cell_type": "code",
   "execution_count": null,
   "id": "11f6af98",
   "metadata": {},
   "outputs": [],
   "source": []
  }
 ],
 "metadata": {
  "kernelspec": {
   "display_name": "Python 3",
   "language": "python",
   "name": "python3"
  },
  "language_info": {
   "codemirror_mode": {
    "name": "ipython",
    "version": 3
   },
   "file_extension": ".py",
   "mimetype": "text/x-python",
   "name": "python",
   "nbconvert_exporter": "python",
   "pygments_lexer": "ipython3",
   "version": "3.8.8"
  }
 },
 "nbformat": 4,
 "nbformat_minor": 5
}
